{
 "cells": [
  {
   "cell_type": "markdown",
   "metadata": {},
   "source": [
    "## RETRIEVING LIPAS SPORTS FACILITIES\n",
    "\n",
    "This code gets the point features fron LIPAS database and keeps the ones inside the Helsinki Metropolitan Area."
   ]
  },
  {
   "cell_type": "code",
   "execution_count": 9,
   "metadata": {},
   "outputs": [],
   "source": [
    "# importing modules\n",
    "import geopandas as gpd\n",
    "import pandas as pd\n",
    "import pyproj\n",
    "import os.path \n",
    "import requests\n",
    "import geojson\n",
    "import shapely\n",
    "import matplotlib.pyplot as plt\n",
    "from pyproj import CRS"
   ]
  },
  {
   "cell_type": "code",
   "execution_count": 10,
   "metadata": {},
   "outputs": [
    {
     "data": {
      "text/html": [
       "<div>\n",
       "<style scoped>\n",
       "    .dataframe tbody tr th:only-of-type {\n",
       "        vertical-align: middle;\n",
       "    }\n",
       "\n",
       "    .dataframe tbody tr th {\n",
       "        vertical-align: top;\n",
       "    }\n",
       "\n",
       "    .dataframe thead th {\n",
       "        text-align: right;\n",
       "    }\n",
       "</style>\n",
       "<table border=\"1\" class=\"dataframe\">\n",
       "  <thead>\n",
       "    <tr style=\"text-align: right;\">\n",
       "      <th></th>\n",
       "      <th>nimi_fi</th>\n",
       "      <th>tyyppi_nimi_fi</th>\n",
       "      <th>geometry</th>\n",
       "      <th>nimi</th>\n",
       "    </tr>\n",
       "  </thead>\n",
       "  <tbody>\n",
       "    <tr>\n",
       "      <th>0</th>\n",
       "      <td>Peijaksentien hiekkakenttä</td>\n",
       "      <td>Pallokenttä</td>\n",
       "      <td>POINT (394758.752 6688587.431)</td>\n",
       "      <td>Peijaksentien hiekkakenttä</td>\n",
       "    </tr>\n",
       "    <tr>\n",
       "      <th>1</th>\n",
       "      <td>Ester Koskelaisen puiston skeittipaikka</td>\n",
       "      <td>Skeitti-/rullaluistelupaikka</td>\n",
       "      <td>POINT (395228.685 6689047.547)</td>\n",
       "      <td>Ester Koskelaisen puiston skeittipaikka</td>\n",
       "    </tr>\n",
       "    <tr>\n",
       "      <th>2</th>\n",
       "      <td>Puistokenttä Räckhalsinpuisto</td>\n",
       "      <td>Pallokenttä</td>\n",
       "      <td>POINT (392565.651 6690159.969)</td>\n",
       "      <td>Puistokenttä Räckhalsinpuisto</td>\n",
       "    </tr>\n",
       "    <tr>\n",
       "      <th>3</th>\n",
       "      <td>Luistelukenttä Vanha Kormuniitty</td>\n",
       "      <td>Luistelukenttä</td>\n",
       "      <td>POINT (395393.730 6683029.912)</td>\n",
       "      <td>Luistelukenttä Vanha Kormuniitty</td>\n",
       "    </tr>\n",
       "    <tr>\n",
       "      <th>4</th>\n",
       "      <td>Puistokenttä Simonkallionpuisto</td>\n",
       "      <td>Pallokenttä</td>\n",
       "      <td>POINT (390581.000 6687369.000)</td>\n",
       "      <td>Puistokenttä Simonkallionpuisto</td>\n",
       "    </tr>\n",
       "    <tr>\n",
       "      <th>...</th>\n",
       "      <td>...</td>\n",
       "      <td>...</td>\n",
       "      <td>...</td>\n",
       "      <td>...</td>\n",
       "    </tr>\n",
       "    <tr>\n",
       "      <th>4121</th>\n",
       "      <td>Gallträskin ulkokuntosali</td>\n",
       "      <td>Ulkokuntoilupaikka</td>\n",
       "      <td>POINT (374473.000 6678192.000)</td>\n",
       "      <td>Gallträskin ulkokuntosali</td>\n",
       "    </tr>\n",
       "    <tr>\n",
       "      <th>4122</th>\n",
       "      <td>Skeittipuisto</td>\n",
       "      <td>Skeitti-/rullaluistelupaikka</td>\n",
       "      <td>POINT (373708.714 6677009.878)</td>\n",
       "      <td>Skeittipuisto</td>\n",
       "    </tr>\n",
       "    <tr>\n",
       "      <th>4123</th>\n",
       "      <td>Kasavuoren koulun liikuntasali 2</td>\n",
       "      <td>Liikuntasali</td>\n",
       "      <td>POINT (372696.192 6677605.810)</td>\n",
       "      <td>Kasavuoren koulun liikuntasali 2</td>\n",
       "    </tr>\n",
       "    <tr>\n",
       "      <th>4124</th>\n",
       "      <td>Granhultin koulun sali</td>\n",
       "      <td>Liikuntasali</td>\n",
       "      <td>POINT (373280.706 6677733.245)</td>\n",
       "      <td>Granhultin koulun sali</td>\n",
       "    </tr>\n",
       "    <tr>\n",
       "      <th>4125</th>\n",
       "      <td>Svenska skolcentrumin liikuntasali</td>\n",
       "      <td>Liikuntasali</td>\n",
       "      <td>POINT (373889.206 6677486.745)</td>\n",
       "      <td>Svenska skolcentrumin liikuntasali</td>\n",
       "    </tr>\n",
       "  </tbody>\n",
       "</table>\n",
       "<p>4126 rows × 4 columns</p>\n",
       "</div>"
      ],
      "text/plain": [
       "                                      nimi_fi                tyyppi_nimi_fi  \\\n",
       "0                  Peijaksentien hiekkakenttä                   Pallokenttä   \n",
       "1     Ester Koskelaisen puiston skeittipaikka  Skeitti-/rullaluistelupaikka   \n",
       "2               Puistokenttä Räckhalsinpuisto                   Pallokenttä   \n",
       "3            Luistelukenttä Vanha Kormuniitty                Luistelukenttä   \n",
       "4             Puistokenttä Simonkallionpuisto                   Pallokenttä   \n",
       "...                                       ...                           ...   \n",
       "4121                Gallträskin ulkokuntosali            Ulkokuntoilupaikka   \n",
       "4122                            Skeittipuisto  Skeitti-/rullaluistelupaikka   \n",
       "4123         Kasavuoren koulun liikuntasali 2                  Liikuntasali   \n",
       "4124                   Granhultin koulun sali                  Liikuntasali   \n",
       "4125       Svenska skolcentrumin liikuntasali                  Liikuntasali   \n",
       "\n",
       "                            geometry                                     nimi  \n",
       "0     POINT (394758.752 6688587.431)               Peijaksentien hiekkakenttä  \n",
       "1     POINT (395228.685 6689047.547)  Ester Koskelaisen puiston skeittipaikka  \n",
       "2     POINT (392565.651 6690159.969)            Puistokenttä Räckhalsinpuisto  \n",
       "3     POINT (395393.730 6683029.912)         Luistelukenttä Vanha Kormuniitty  \n",
       "4     POINT (390581.000 6687369.000)          Puistokenttä Simonkallionpuisto  \n",
       "...                              ...                                      ...  \n",
       "4121  POINT (374473.000 6678192.000)                Gallträskin ulkokuntosali  \n",
       "4122  POINT (373708.714 6677009.878)                            Skeittipuisto  \n",
       "4123  POINT (372696.192 6677605.810)         Kasavuoren koulun liikuntasali 2  \n",
       "4124  POINT (373280.706 6677733.245)                   Granhultin koulun sali  \n",
       "4125  POINT (373889.206 6677486.745)       Svenska skolcentrumin liikuntasali  \n",
       "\n",
       "[4126 rows x 4 columns]"
      ]
     },
     "execution_count": 10,
     "metadata": {},
     "output_type": "execute_result"
    }
   ],
   "source": [
    "#retrieve data as wfs\n",
    "r = requests.get(\"\"\"http://lipas.cc.jyu.fi/geoserver/lipas/ows?service=wfs&version=2.0.0&request=GetFeature&typeNames=lipas:lipas_kaikki_pisteet&bbox=361500.0001438780454919,6665250.0001345984637737,403750.0001343561452813,6698000.0001281434670091,EPSG:3067&outputFormat=json\"\"\")\n",
    "lipas_pisteet = gpd.GeoDataFrame.from_features(geojson.loads(r.content))\n",
    "lipas_pisteet.crs = \"epsg:3067\"\n",
    "\n",
    "# Fetch data from WFS using requests\n",
    "r = requests.get('http://geo.stat.fi/geoserver/tilastointialueet/wfs', params=dict(service='WFS', version='2.0.0', request='GetFeature', typeName='tilastointialueet:kunta1000k', outputFormat='json'))\n",
    "\n",
    "#get a shapefile of municipalities\n",
    "municip = gpd.GeoDataFrame.from_features(geojson.loads(r.content),  crs=\"EPSG:3067\")\n",
    "\n",
    "#choose the study area municipalities\n",
    "hma = municip.loc[(municip[\"nimi\"] == \"Espoo\") | (municip[\"nimi\"] == \"Helsinki\") |\n",
    "                (municip[\"nimi\"] == \"Vantaa\") | (municip[\"nimi\"] == \"Kauniainen\")]\n",
    "\n",
    "#retrieve the sports facilities in Helsinki Metropolitan area\n",
    "lipas_data = gpd.overlay(lipas_pisteet, hma, how=\"intersection\")\n",
    "\n",
    "\n",
    "# Removing unnecessary attributes from lipas_data\n",
    "lipas_data = lipas_data[[\"geometry\",\"id\",\"nimi_fi\",\"tyyppi_nimi_fi\"]]\n",
    "    \n",
    "lipas_data = lipas_data.reset_index()\n",
    "\n",
    "for i in range(len(lipas_data)):\n",
    "\n",
    "    lipas_data.loc[i, \"nimi\"] = lipas_data[\"nimi_fi\"][i].split(\"/\")[0]\n",
    "\n",
    "\n",
    "lipas_data = lipas_data[[\"nimi_fi\", \"tyyppi_nimi_fi\", \"geometry\", \"nimi\"]]\n",
    "\n",
    "lipas_data"
   ]
  },
  {
   "cell_type": "code",
   "execution_count": 8,
   "metadata": {},
   "outputs": [
    {
     "data": {
      "text/plain": [
       "<AxesSubplot:>"
      ]
     },
     "execution_count": 8,
     "metadata": {},
     "output_type": "execute_result"
    },
    {
     "data": {
      "image/png": "[encoded data removed]",
      "text/plain": [
       "<Figure size 432x288 with 1 Axes>"
      ]
     },
     "metadata": {
      "needs_background": "light"
     },
     "output_type": "display_data"
    }
   ],
   "source": [
    "lipas_data.plot()"
   ]
  },
  {
   "cell_type": "code",
   "execution_count": 8,
   "metadata": {},
   "outputs": [],
   "source": [
    "lipas_data.to_file(\"lipas.shp\")"
   ]
  },
  {
   "cell_type": "code",
   "execution_count": null,
   "metadata": {},
   "outputs": [],
   "source": []
  }
 ],
 "metadata": {
  "kernelspec": {
   "display_name": "Python 3 (ipykernel)",
   "language": "python",
   "name": "python3"
  },
  "language_info": {
   "codemirror_mode": {
    "name": "ipython",
    "version": 3
   },
   "file_extension": ".py",
   "mimetype": "text/x-python",
   "name": "python",
   "nbconvert_exporter": "python",
   "pygments_lexer": "ipython3",
   "version": "3.10.1"
  }
 },
 "nbformat": 4,
 "nbformat_minor": 4
}
