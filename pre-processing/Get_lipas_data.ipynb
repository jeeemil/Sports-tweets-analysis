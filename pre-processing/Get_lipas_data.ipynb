{
 "cells": [
  {
   "cell_type": "markdown",
   "metadata": {},
   "source": [
    "## RETRIEVING LIPAS SPORTS FACILITIES\n",
    "\n",
    "This code gets the point features fron LIPAS database and keeps the ones inside the Helsinki Metropolitan Area."
   ]
  },
  {
   "cell_type": "code",
   "execution_count": null,
   "metadata": {},
   "outputs": [],
   "source": [
    "# importing modules\n",
    "import geopandas as gpd\n",
    "import pandas as pd\n",
    "import pyproj\n",
    "import os.path \n",
    "import requests\n",
    "import geojson\n",
    "import shapely\n",
    "import matplotlib.pyplot as plt\n",
    "from pyproj import CRS"
   ]
  },
  {
   "cell_type": "code",
   "execution_count": 6,
   "metadata": {},
   "outputs": [
    {
     "data": {
      "text/html": [
       "<div>\n",
       "<style scoped>\n",
       "    .dataframe tbody tr th:only-of-type {\n",
       "        vertical-align: middle;\n",
       "    }\n",
       "\n",
       "    .dataframe tbody tr th {\n",
       "        vertical-align: top;\n",
       "    }\n",
       "\n",
       "    .dataframe thead th {\n",
       "        text-align: right;\n",
       "    }\n",
       "</style>\n",
       "<table border=\"1\" class=\"dataframe\">\n",
       "  <thead>\n",
       "    <tr style=\"text-align: right;\">\n",
       "      <th></th>\n",
       "      <th>nimi_fi</th>\n",
       "      <th>tyyppi_nimi_fi</th>\n",
       "      <th>geometry</th>\n",
       "      <th>nimi</th>\n",
       "    </tr>\n",
       "  </thead>\n",
       "  <tbody>\n",
       "    <tr>\n",
       "      <th>0</th>\n",
       "      <td>Laajasalon peruskoulu (ala-aste) / Koripalloke...</td>\n",
       "      <td>Koripallokenttä</td>\n",
       "      <td>POINT (392042.022 6672717.342)</td>\n",
       "      <td>Laajasalon peruskoulu (ala-aste)</td>\n",
       "    </tr>\n",
       "    <tr>\n",
       "      <th>1</th>\n",
       "      <td>Fressi24 Arabia / Kuntosali</td>\n",
       "      <td>Kuntosali</td>\n",
       "      <td>POINT (387397.776 6675804.536)</td>\n",
       "      <td>Fressi24 Arabia</td>\n",
       "    </tr>\n",
       "    <tr>\n",
       "      <th>2</th>\n",
       "      <td>Pihlajiston ala-asteen koulu / Luistelukenttä</td>\n",
       "      <td>Luistelukenttä</td>\n",
       "      <td>POINT (389584.882 6678746.363)</td>\n",
       "      <td>Pihlajiston ala-asteen koulu</td>\n",
       "    </tr>\n",
       "    <tr>\n",
       "      <th>3</th>\n",
       "      <td>Stadin ammatti- ja aikuisopisto (Sturenkatu) /...</td>\n",
       "      <td>Liikuntasali</td>\n",
       "      <td>POINT (386515.598 6674735.682)</td>\n",
       "      <td>Stadin ammatti- ja aikuisopisto (Sturenkatu)</td>\n",
       "    </tr>\n",
       "    <tr>\n",
       "      <th>4</th>\n",
       "      <td>Puistolan liikuntahalli</td>\n",
       "      <td>Liikuntahalli</td>\n",
       "      <td>POINT (392433.582 6682758.279)</td>\n",
       "      <td>Puistolan liikuntahalli</td>\n",
       "    </tr>\n",
       "    <tr>\n",
       "      <th>...</th>\n",
       "      <td>...</td>\n",
       "      <td>...</td>\n",
       "      <td>...</td>\n",
       "      <td>...</td>\n",
       "    </tr>\n",
       "    <tr>\n",
       "      <th>3935</th>\n",
       "      <td>Gallträskin ulkokuntosali</td>\n",
       "      <td>Ulkokuntoilupaikka</td>\n",
       "      <td>POINT (374473.000 6678192.000)</td>\n",
       "      <td>Gallträskin ulkokuntosali</td>\n",
       "    </tr>\n",
       "    <tr>\n",
       "      <th>3936</th>\n",
       "      <td>Skeittipuisto</td>\n",
       "      <td>Skeitti-/rullaluistelupaikka</td>\n",
       "      <td>POINT (373708.714 6677009.878)</td>\n",
       "      <td>Skeittipuisto</td>\n",
       "    </tr>\n",
       "    <tr>\n",
       "      <th>3937</th>\n",
       "      <td>Kasavuoren koulun liikuntasali 2</td>\n",
       "      <td>Liikuntasali</td>\n",
       "      <td>POINT (372696.192 6677605.810)</td>\n",
       "      <td>Kasavuoren koulun liikuntasali 2</td>\n",
       "    </tr>\n",
       "    <tr>\n",
       "      <th>3938</th>\n",
       "      <td>Granhultin koulun sali</td>\n",
       "      <td>Liikuntasali</td>\n",
       "      <td>POINT (373280.706 6677733.245)</td>\n",
       "      <td>Granhultin koulun sali</td>\n",
       "    </tr>\n",
       "    <tr>\n",
       "      <th>3939</th>\n",
       "      <td>Svenska skolcentrumin liikuntasali</td>\n",
       "      <td>Liikuntasali</td>\n",
       "      <td>POINT (373889.206 6677486.745)</td>\n",
       "      <td>Svenska skolcentrumin liikuntasali</td>\n",
       "    </tr>\n",
       "  </tbody>\n",
       "</table>\n",
       "<p>3940 rows × 4 columns</p>\n",
       "</div>"
      ],
      "text/plain": [
       "                                                nimi_fi  \\\n",
       "0     Laajasalon peruskoulu (ala-aste) / Koripalloke...   \n",
       "1                           Fressi24 Arabia / Kuntosali   \n",
       "2         Pihlajiston ala-asteen koulu / Luistelukenttä   \n",
       "3     Stadin ammatti- ja aikuisopisto (Sturenkatu) /...   \n",
       "4                               Puistolan liikuntahalli   \n",
       "...                                                 ...   \n",
       "3935                          Gallträskin ulkokuntosali   \n",
       "3936                                      Skeittipuisto   \n",
       "3937                   Kasavuoren koulun liikuntasali 2   \n",
       "3938                             Granhultin koulun sali   \n",
       "3939                 Svenska skolcentrumin liikuntasali   \n",
       "\n",
       "                    tyyppi_nimi_fi                        geometry  \\\n",
       "0                  Koripallokenttä  POINT (392042.022 6672717.342)   \n",
       "1                        Kuntosali  POINT (387397.776 6675804.536)   \n",
       "2                   Luistelukenttä  POINT (389584.882 6678746.363)   \n",
       "3                     Liikuntasali  POINT (386515.598 6674735.682)   \n",
       "4                    Liikuntahalli  POINT (392433.582 6682758.279)   \n",
       "...                            ...                             ...   \n",
       "3935            Ulkokuntoilupaikka  POINT (374473.000 6678192.000)   \n",
       "3936  Skeitti-/rullaluistelupaikka  POINT (373708.714 6677009.878)   \n",
       "3937                  Liikuntasali  POINT (372696.192 6677605.810)   \n",
       "3938                  Liikuntasali  POINT (373280.706 6677733.245)   \n",
       "3939                  Liikuntasali  POINT (373889.206 6677486.745)   \n",
       "\n",
       "                                               nimi  \n",
       "0                 Laajasalon peruskoulu (ala-aste)   \n",
       "1                                  Fressi24 Arabia   \n",
       "2                     Pihlajiston ala-asteen koulu   \n",
       "3     Stadin ammatti- ja aikuisopisto (Sturenkatu)   \n",
       "4                           Puistolan liikuntahalli  \n",
       "...                                             ...  \n",
       "3935                      Gallträskin ulkokuntosali  \n",
       "3936                                  Skeittipuisto  \n",
       "3937               Kasavuoren koulun liikuntasali 2  \n",
       "3938                         Granhultin koulun sali  \n",
       "3939             Svenska skolcentrumin liikuntasali  \n",
       "\n",
       "[3940 rows x 4 columns]"
      ]
     },
     "execution_count": 6,
     "metadata": {},
     "output_type": "execute_result"
    }
   ],
   "source": [
    "#retrieve data as wfs\n",
    "r = requests.get(\"\"\"http://lipas.cc.jyu.fi/geoserver/lipas/ows?service=wfs&version=2.0.0&request=GetFeature&typeNames=lipas:lipas_kaikki_pisteet&bbox=361500.0001438780454919,6665250.0001345984637737,403750.0001343561452813,6698000.0001281434670091,EPSG:3067&outputFormat=json\"\"\")\n",
    "lipas_pisteet = gpd.GeoDataFrame.from_features(geojson.loads(r.content))\n",
    "lipas_pisteet.crs = \"epsg:3067\"\n",
    "\n",
    "\n",
    "#get a shapefile of municipalities\n",
    "municip = gpd.read_file(r\"kunnat_2020_milj.shp\",\n",
    "                      crs= CRS.from_epsg(3067).to_wkt())\n",
    "\n",
    "#choose the study area municipalities\n",
    "hma = municip.loc[(municip[\"NAMEFIN\"] == \"Espoo\") | (municip[\"NAMEFIN\"] == \"Helsinki\") |\n",
    "                (municip[\"NAMEFIN\"] == \"Vantaa\") | (municip[\"NAMEFIN\"] == \"Kauniainen\")]\n",
    "\n",
    "#retrieve the sports facilities in Helsinki Metropolitan area\n",
    "lipas_data = gpd.overlay(lipas_pisteet, hma, how=\"intersection\")\n",
    "\n",
    "\n",
    "# Removing unnecessary attributes from lipas_data\n",
    "lipas_data = lipas_data[[\"geometry\",\"id\",\"nimi_fi\",\"tyyppi_nimi_fi\"]]\n",
    "    \n",
    "lipas_data = lipas_data.reset_index()\n",
    "\n",
    "for i in range(len(lipas_data)):\n",
    "\n",
    "    lipas_data.loc[i, \"nimi\"] = lipas_data[\"nimi_fi\"][i].split(\"/\")[0]\n",
    "\n",
    "\n",
    "lipas_data = lipas_data[[\"nimi_fi\", \"tyyppi_nimi_fi\", \"geometry\", \"nimi\"]]\n",
    "\n",
    "lipas_data"
   ]
  },
  {
   "cell_type": "code",
   "execution_count": 7,
   "metadata": {},
   "outputs": [
    {
     "data": {
      "text/plain": [
       "<AxesSubplot:>"
      ]
     },
     "execution_count": 7,
     "metadata": {},
     "output_type": "execute_result"
    },
    {
     "data": {
      "image/png": "[encoded data removed]",
      "text/plain": [
       "<Figure size 432x288 with 1 Axes>"
      ]
     },
     "metadata": {
      "needs_background": "light"
     },
     "output_type": "display_data"
    }
   ],
   "source": [
    "lipas_data.plot()"
   ]
  },
  {
   "cell_type": "code",
   "execution_count": 8,
   "metadata": {},
   "outputs": [],
   "source": [
    "lipas_data.to_file(\"lipas.shp\")"
   ]
  },
  {
   "cell_type": "code",
   "execution_count": null,
   "metadata": {},
   "outputs": [],
   "source": []
  }
 ],
 "metadata": {
  "kernelspec": {
   "display_name": "Python 3",
   "language": "python",
   "name": "python3"
  },
  "language_info": {
   "codemirror_mode": {
    "name": "ipython",
    "version": 3
   },
   "file_extension": ".py",
   "mimetype": "text/x-python",
   "name": "python",
   "nbconvert_exporter": "python",
   "pygments_lexer": "ipython3",
   "version": "3.7.9"
  }
 },
 "nbformat": 4,
 "nbformat_minor": 4
}
