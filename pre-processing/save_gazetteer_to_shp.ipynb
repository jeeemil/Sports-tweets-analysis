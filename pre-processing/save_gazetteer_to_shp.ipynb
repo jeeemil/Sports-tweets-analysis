{
 "cells": [
  {
   "cell_type": "code",
   "execution_count": 20,
   "metadata": {},
   "outputs": [
    {
     "name": "stderr",
     "output_type": "stream",
     "text": [
      "C:\\Hyapp\\Anaconda3\\envs\\ylli\\lib\\site-packages\\pandas\\core\\dtypes\\cast.py:118: ShapelyDeprecationWarning: The array interface is deprecated and will no longer work in Shapely 2.0. Convert the '.coords' to a numpy array instead.\n",
      "  arr = construct_1d_object_array_from_listlike(values)\n"
     ]
    },
    {
     "name": "stdout",
     "output_type": "stream",
     "text": [
      "Gazetteer ready for use\n"
     ]
    }
   ],
   "source": [
    "import pandas as pd\n",
    "import geopandas as gpd\n",
    "import requests\n",
    "import geojson\n",
    "from pyproj import CRS\n",
    "from shapely.geometry import Point\n",
    "\n",
    "def get_gazetteer():\n",
    "    \"\"\"\n",
    "    Retrieve GeoNames gazetteer and limit that to contain only the toponyms in the Jyväskylä area.\n",
    "    \"\"\"\n",
    "    #retrieve the toponyms from Geonames txt file\n",
    "    geonames = pd.read_csv(r\"FI.txt\", sep=\"\\t\", header= None)\n",
    "    #rename the columns\n",
    "    geonames.columns = [\"geonameid\", \"name\", \"asciiname\", \"alternatenames\", \"latitude\", \"longitude\", \"feature class\", \n",
    "                        \"feature code\", \"country code\", \"cc2\", \"admin1 code\", \"admin2 code\", \"admin3 code\", \"admin4 code\", \"population\", \"elevation\", \"dem\", \"timezone\", \"modification date\"]\n",
    "      \n",
    "    #make shapely points from latitude and longitude and convert to geodataframe\n",
    "    geonames[\"geometry\"] = geonames.apply(lambda row: Point(row[\"longitude\"], row[\"latitude\"]), axis=1)\n",
    "    geonames = gpd.GeoDataFrame(geonames)\n",
    "\n",
    "    #reproject geonames to ETRS89 / TM35FIN\n",
    "    geonames.crs = CRS.from_epsg(4326).to_wkt()\n",
    "    geonames = geonames.to_crs(epsg=3067)\n",
    "    \n",
    "    \n",
    "    \n",
    "    # Fetch city border data from WFS using requests\n",
    "    r = requests.get('http://geo.stat.fi/geoserver/tilastointialueet/wfs', params=dict(service='WFS', version='2.0.0', request='GetFeature', typeName='tilastointialueet:kunta1000k', outputFormat='json'))\n",
    "\n",
    "    # get a shapefile of municipalities\n",
    "    municip = gpd.GeoDataFrame.from_features(geojson.loads(r.content),  crs=\"EPSG:3067\")\n",
    "    \n",
    "    # only keep Jyväskylä area\n",
    "    jyv = municip.loc[municip[\"nimi\"] == \"Jyväskylä\"]\n",
    "    jyv = jyv.to_crs(epsg=3067)\n",
    "    \n",
    "    #retrieve the placenames in Jyväskylä\n",
    "    jyvnames = gpd.overlay(geonames, jyv, how=\"intersection\")\n",
    "    jyvnames.crs = CRS.from_epsg(3067)\n",
    "    \n",
    "    #convert all placenames to small letters for further processing\n",
    "    jyvnames[\"name\"] = jyvnames[\"name_1\"].str.lower()\n",
    "    \n",
    "    #delete general city name \"Jyväskylä\" for ambigous results (done in post-processing)\n",
    "    jyvnames = jyvnames[(jyvnames.name != \"jyväskylä\")]\n",
    "    jyvnames['bbox'] = jyvnames['bbox'].astype(str)  \n",
    "    print(\"Gazetteer ready for use\")\n",
    "    return jyvnames\n",
    "\n",
    "\n",
    "df = get_gazetteer()\n",
    "df['bbox_s'] = df['bbox'].astype(str)  \n",
    "df.to_file(\"jyv_gazetteer.gpkg\", driver='GPKG')\n"
   ]
  },
  {
   "cell_type": "code",
   "execution_count": 17,
   "metadata": {},
   "outputs": [],
   "source": []
  }
 ],
 "metadata": {
  "kernelspec": {
   "display_name": "Python 3 (ipykernel)",
   "language": "python",
   "name": "python3"
  },
  "language_info": {
   "codemirror_mode": {
    "name": "ipython",
    "version": 3
   },
   "file_extension": ".py",
   "mimetype": "text/x-python",
   "name": "python",
   "nbconvert_exporter": "python",
   "pygments_lexer": "ipython3",
   "version": "3.10.1"
  }
 },
 "nbformat": 4,
 "nbformat_minor": 4
}
